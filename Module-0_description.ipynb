{
 "cells": [
  {
   "cell_type": "markdown",
   "metadata": {},
   "source": [
    "![Image of Yaktocat](https://www.datamation.com/wp-content/uploads/2021/10/DRL-ICA-91521-scaled.jpeg)"
   ]
  },
  {
   "cell_type": "markdown",
   "metadata": {},
   "source": [
    " # Cours d'introduction à l'apprentissage automatique\n",
    " \n",
    " ### Par : Vincent Roy, ing., M. Sc., M. Eng\n",
    " \n",
    " ---"
   ]
  },
  {
   "cell_type": "markdown",
   "metadata": {},
   "source": [
    "# But et objectifs de ce cours\n",
    "\n",
    "\n",
    "L'objectif de ce cours est de fournir une compréhension de base du domaine de l'apprentissage automatique et de ce qui peut être accompli avec de tels outils.\n",
    "\n",
    "\n",
    "Les objectifs du cours sont les suivants :\n",
    "\n",
    "1. donner une brève introduction aux concepts et techniques clés de l'apprentissage automatique\n",
    "2. apprendre certains des principaux algorithmes à l'aide d'exemples et d'ensembles de données\n",
    "3. indiquer les forces et les faiblesses de l'apprentissage automatique\n",
    "4. fournir une liste de références pour une lecture plus approfondie\n",
    "\n",
    "Ce cours utilise une approche pratique, en tant que tel il ne couvre pas les fondements théoriques du domaine.\n",
    "\n",
    "# "
   ]
  },
  {
   "cell_type": "markdown",
   "metadata": {},
   "source": [
    "# Publique cible\n",
    "\n",
    "\n",
    "Ce cours est destiné à un public à orientation scientifique qui souhaite apprendre les concepts clés du domaine de l'apprentissage automatique. Des connaissances préalables en programmation dans un langage moderne sont fortement recommandées (Python, C++, VB, etc.)\n",
    "\n",
    "# "
   ]
  },
  {
   "cell_type": "markdown",
   "metadata": {},
   "source": [
    "# Modules du cours\n",
    " \n",
    "Module 1 - Introduction à l'apprentissage automatique\n",
    "\n",
    "Module 2 - Classification des espèces de fleurs d'iris avec les algorithmes kNN et SVM\n",
    "\n",
    "Module 3 - Prédiction des prix des maisons de Boston avec les algorithmes de régression linéaire et à réseau de neuronnes de type MLP\n",
    "\n",
    "Module 4 - Images Fashion-MNIST prédiction de la catégorie vestimentaire avec un réseau de neurones profonds de type CNN\n",
    "\n",
    "Module 5 - Clustering des espèces de fleurs d'iris avec l'algorithme K-means \n",
    "\n",
    "Module 6 - Apprentissage par renforcement pour jouer à un jeu vidéo\n",
    "\n",
    "\n",
    "\n"
   ]
  },
  {
   "cell_type": "code",
   "execution_count": null,
   "metadata": {},
   "outputs": [],
   "source": []
  }
 ],
 "metadata": {
  "file_extension": ".py",
  "kernelspec": {
   "display_name": "lstm",
   "language": "python",
   "name": "lstm"
  },
  "language_info": {
   "codemirror_mode": {
    "name": "ipython",
    "version": 3
   },
   "file_extension": ".py",
   "mimetype": "text/x-python",
   "name": "python",
   "nbconvert_exporter": "python",
   "pygments_lexer": "ipython3",
   "version": "3.8.10"
  },
  "mimetype": "text/x-python",
  "name": "python",
  "npconvert_exporter": "python",
  "pygments_lexer": "ipython3",
  "version": 3
 },
 "nbformat": 4,
 "nbformat_minor": 2
}
