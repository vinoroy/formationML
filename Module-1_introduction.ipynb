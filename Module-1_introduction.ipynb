{
 "cells": [
  {
   "cell_type": "markdown",
   "metadata": {},
   "source": [
    " # Cours d'introduction à l'apprentissage automatique\n",
    " \n",
    " ### Par : Vincent Roy, ing., M. Sc., M. Eng\n",
    " \n",
    " ---"
   ]
  },
  {
   "cell_type": "markdown",
   "metadata": {},
   "source": [
    "# Module 1 - Introduction à l'apprentissage automatique\n",
    "\n",
    "\n",
    "1. Paysage de l'IA\n",
    "2. Type d'apprentissage automatique\n",
    "3. Jeux de données utilisés dans ce cours\n",
    "\n",
    "---"
   ]
  },
  {
   "cell_type": "markdown",
   "metadata": {},
   "source": [
    "# 1. Paysage de l'IA"
   ]
  },
  {
   "cell_type": "markdown",
   "metadata": {},
   "source": [
    "![Image of Yaktocat](https://www.edureka.co/blog/wp-content/uploads/2018/03/AI-vs-ML-vs-Deep-Learning.png)\n",
    "# "
   ]
  },
  {
   "cell_type": "markdown",
   "metadata": {},
   "source": [
    "![Image](https://devops.com/wp-content/uploads/2019/05/machine-learning-01.jpg)"
   ]
  },
  {
   "cell_type": "markdown",
   "metadata": {},
   "source": [
    "# 2. Type d'pprentissage automatique"
   ]
  },
  {
   "cell_type": "markdown",
   "metadata": {},
   "source": [
    "<img src=\"https://www.newtechdojo.com/wp-content/uploads/2020/06/ML-Types-1-1024x741.png\" alt=\"Drawing\" style=\"width: 800px;\"/>\n",
    "\n",
    "# "
   ]
  },
  {
   "cell_type": "markdown",
   "metadata": {},
   "source": [
    "<img src=\"https://pbs.twimg.com/media/DsCTvc3XQAE7Njb.jpg\" alt=\"Drawing\" style=\"width: 900px;\"/>\n",
    "\n",
    "# \n"
   ]
  },
  {
   "cell_type": "markdown",
   "metadata": {},
   "source": [
    "## 2.1 Apprentissage supervisé"
   ]
  },
  {
   "cell_type": "markdown",
   "metadata": {},
   "source": [
    "<img src=\"https://static.javatpoint.com/tutorial/machine-learning/images/supervised-machine-learning.png\" alt=\"Drawing\" style=\"width: 900px;\"/>\n",
    "\n",
    "# "
   ]
  },
  {
   "cell_type": "markdown",
   "metadata": {},
   "source": [
    "## Les deux types d'apprentissage supervisé"
   ]
  },
  {
   "cell_type": "markdown",
   "metadata": {},
   "source": [
    "<img src=\"https://cdn.educba.com/academy/wp-content/uploads/2019/12/Regression-vs-Classification.jpg\" alt=\"Drawing\" style=\"width: 800px;\"/>\n",
    "\n",
    "# "
   ]
  },
  {
   "cell_type": "markdown",
   "metadata": {},
   "source": [
    "## 2.2 Apprentissage nonsupervisé"
   ]
  },
  {
   "cell_type": "markdown",
   "metadata": {},
   "source": [
    "<img src=\"https://editor.analyticsvidhya.com/uploads/46668k-means-clustering-algorithm-in-machine-learning.png\" alt=\"Drawing\" style=\"width: 800px;\"/>\n",
    "\n",
    "# "
   ]
  },
  {
   "cell_type": "markdown",
   "metadata": {},
   "source": [
    "## 2.3 Type d'algorithme d'apprentssage supervisé et nonsupervisé"
   ]
  },
  {
   "cell_type": "markdown",
   "metadata": {},
   "source": [
    "<img src=\"https://ars.els-cdn.com/content/image/1-s2.0-S157401372030071X-gr3.jpg\" alt=\"Drawing\" style=\"width: 700px;\"/>\n",
    "\n",
    "# \n",
    "\n",
    "\n"
   ]
  },
  {
   "cell_type": "markdown",
   "metadata": {},
   "source": [
    "## 2.4 Apprentissage par renforcement"
   ]
  },
  {
   "cell_type": "markdown",
   "metadata": {},
   "source": [
    "<img src=\"https://www.kdnuggets.com/images/mathworks-reinforcement-learning-fig1-543.jpg\" alt=\"Drawing\" style=\"width: 700px;\"/>\n",
    "\n",
    "# \n",
    "\n",
    "\n",
    "\n",
    "\n"
   ]
  },
  {
   "cell_type": "markdown",
   "metadata": {},
   "source": [
    "# 3. Jeux de données utilisés dans ce cours"
   ]
  },
  {
   "cell_type": "markdown",
   "metadata": {},
   "source": [
    "## 3.1 Fleurs Iris - Prédiction de l'espece (Classification)"
   ]
  },
  {
   "cell_type": "markdown",
   "metadata": {},
   "source": [
    "![Image of Yaktocat](https://miro.medium.com/max/1838/1*7bnLKsChXq94QjtAiRn40w.png)\n"
   ]
  },
  {
   "cell_type": "markdown",
   "metadata": {},
   "source": [
    "![Image of Yaktocat](https://kedro.readthedocs.io/en/stable/_images/iris_measurements.png)"
   ]
  },
  {
   "cell_type": "markdown",
   "metadata": {},
   "source": [
    "- Longueur des sépales en cm.\n",
    "- Largeur des sépales en cm.\n",
    "- Longueur des pétales en cm.\n",
    "- Largeur des pétales en cm.\n",
    "\n",
    "# "
   ]
  },
  {
   "cell_type": "markdown",
   "metadata": {},
   "source": [
    "## 3.2 Maisons à Boston - Prédiction du prix (Régression)"
   ]
  },
  {
   "cell_type": "markdown",
   "metadata": {},
   "source": [
    "<img src=\"https://mediavault.point2.com/p2h/listing/d97c/a3b1/84d7/993e1b517bdd7e856304/nwm_large.jpg\" alt=\"Drawing\" style=\"width: 600px;\"/>"
   ]
  },
  {
   "cell_type": "markdown",
   "metadata": {},
   "source": [
    "- taux de criminalité par habitant par ville.\n",
    "- nombre de pièces par logement.\n",
    "- distances pondérées vers cinq centres d'emploi de Boston.\n",
    "- indice d'accessibilité aux autoroutes.\n",
    "- taux d'impôt foncier sur la valeur totale par tranche de 10 000 $.\n",
    "- Ratio élèves-enseigante par commune.\n",
    "- etc.\n",
    "\n",
    "# "
   ]
  },
  {
   "cell_type": "markdown",
   "metadata": {},
   "source": [
    "## 3.3 Images Fashion-MNIST - Prédiction de la catégorie vestimentaire (Classification)"
   ]
  },
  {
   "cell_type": "markdown",
   "metadata": {},
   "source": [
    "![Image of Yaktocat](https://peltarion.com/static/fashion-mnist_long.png)"
   ]
  },
  {
   "cell_type": "markdown",
   "metadata": {},
   "source": [
    "Fashion-MNIST est un ensemble de données composé d'un ensemble d'apprentissage de 60 000 exemples et d'un ensemble de test de 10 000 exemples. Chaque exemple est une image en niveaux de gris 28x28, associée à une étiquette de 10 classes.\n",
    "\n",
    "\n",
    "Chaque image d'entraînement et de test est attribuée à l'une des étiquettes de catégorie suivantes :\n",
    "\n",
    "1. T-shirt/haut\n",
    "2. pantalon\n",
    "3. Pull\n",
    "4. Robe\n",
    "5. Manteau\n",
    "6. sandale\n",
    "7. Chemise\n",
    "8. Baskets\n",
    "9. Sac\n",
    "10. Bottine"
   ]
  },
  {
   "cell_type": "code",
   "execution_count": null,
   "metadata": {},
   "outputs": [],
   "source": []
  },
  {
   "cell_type": "code",
   "execution_count": null,
   "metadata": {},
   "outputs": [],
   "source": []
  }
 ],
 "metadata": {
  "file_extension": ".py",
  "kernelspec": {
   "display_name": "lstm",
   "language": "python",
   "name": "lstm"
  },
  "language_info": {
   "codemirror_mode": {
    "name": "ipython",
    "version": 3
   },
   "file_extension": ".py",
   "mimetype": "text/x-python",
   "name": "python",
   "nbconvert_exporter": "python",
   "pygments_lexer": "ipython3",
   "version": "3.8.10"
  },
  "mimetype": "text/x-python",
  "name": "python",
  "npconvert_exporter": "python",
  "pygments_lexer": "ipython3",
  "version": 3
 },
 "nbformat": 4,
 "nbformat_minor": 2
}
