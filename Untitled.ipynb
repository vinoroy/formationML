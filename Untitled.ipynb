{
 "cells": [
  {
   "cell_type": "code",
   "execution_count": 13,
   "id": "functioning-flower",
   "metadata": {},
   "outputs": [
    {
     "data": {
      "text/plain": [
       "7650000.0"
      ]
     },
     "execution_count": 13,
     "metadata": {},
     "output_type": "execute_result"
    }
   ],
   "source": [
    "8500000 * 0.9"
   ]
  },
  {
   "cell_type": "code",
   "execution_count": 14,
   "id": "external-interim",
   "metadata": {},
   "outputs": [
    {
     "data": {
      "text/plain": [
       "850000.0"
      ]
     },
     "execution_count": 14,
     "metadata": {},
     "output_type": "execute_result"
    }
   ],
   "source": [
    "8500000 * .1"
   ]
  },
  {
   "cell_type": "code",
   "execution_count": 15,
   "id": "confused-departure",
   "metadata": {},
   "outputs": [
    {
     "data": {
      "text/plain": [
       "5.882352941176471"
      ]
     },
     "execution_count": 15,
     "metadata": {},
     "output_type": "execute_result"
    }
   ],
   "source": [
    "450/7650000 * 100000"
   ]
  },
  {
   "cell_type": "code",
   "execution_count": 16,
   "id": "fatty-brush",
   "metadata": {},
   "outputs": [
    {
     "data": {
      "text/plain": [
       "52.94117647058823"
      ]
     },
     "execution_count": 16,
     "metadata": {},
     "output_type": "execute_result"
    }
   ],
   "source": [
    "450/850000 *100000"
   ]
  },
  {
   "cell_type": "code",
   "execution_count": 18,
   "id": "worst-formation",
   "metadata": {},
   "outputs": [
    {
     "data": {
      "text/plain": [
       "9.003401360544217"
      ]
     },
     "execution_count": 18,
     "metadata": {},
     "output_type": "execute_result"
    }
   ],
   "source": [
    "52.94/5.88"
   ]
  },
  {
   "cell_type": "code",
   "execution_count": null,
   "id": "sticky-teens",
   "metadata": {},
   "outputs": [],
   "source": []
  }
 ],
 "metadata": {
  "kernelspec": {
   "display_name": "Python 3",
   "language": "python",
   "name": "python3"
  },
  "language_info": {
   "codemirror_mode": {
    "name": "ipython",
    "version": 3
   },
   "file_extension": ".py",
   "mimetype": "text/x-python",
   "name": "python",
   "nbconvert_exporter": "python",
   "pygments_lexer": "ipython3",
   "version": "3.7.1"
  }
 },
 "nbformat": 4,
 "nbformat_minor": 5
}
